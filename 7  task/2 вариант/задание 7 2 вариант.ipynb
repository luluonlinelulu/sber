{
 "cells": [
  {
   "cell_type": "code",
   "execution_count": 1,
   "id": "3729ff48",
   "metadata": {},
   "outputs": [
    {
     "name": "stdout",
     "output_type": "stream",
     "text": [
      "[2.83820721 1.98594618 1.07892258 0.95062545 1.02943356 0.99452922\n",
      " 1.35495821 1.2605965  1.23493021 0.77879434 1.76379317 2.65369259\n",
      " 1.60507398 2.05278213 1.78902201 0.80473374 1.4606144  2.84154765\n",
      " 1.00762372 1.81648844 2.19911089 0.45919496 1.56651347 3.02604783\n",
      " 2.27251511 2.41808535 0.83864303 2.47902539 0.84101322 0.56392648\n",
      " 1.40125403 1.7612924  1.03304836 1.48323522 0.76549245 0.72392438\n",
      " 2.22731622 1.86162705 1.88603861 2.85610991 1.08037058 2.28091971\n",
      " 1.06043917 2.19033122 2.51959284 1.69573622 0.94027763 2.10953288\n",
      " 1.94837819 2.31358211]\n"
     ]
    },
    {
     "data": {
      "text/plain": [
       "dtype('float64')"
      ]
     },
     "execution_count": 1,
     "metadata": {},
     "output_type": "execute_result"
    }
   ],
   "source": [
    "# Задание 1 ЦПТ для различных распределений\n",
    "\n",
    "\n",
    "import pandas as pd\n",
    "import numpy as np\n",
    "import matplotlib.pyplot as plt\n",
    "from scipy.stats import maxwell\n",
    "import math\n",
    "rv = maxwell()\n",
    "sample = rv.rvs(50)\n",
    "print (sample)\n",
    "sample.dtype\n"
   ]
  },
  {
   "cell_type": "code",
   "execution_count": 2,
   "id": "57272569",
   "metadata": {},
   "outputs": [
    {
     "name": "stdout",
     "output_type": "stream",
     "text": [
      "Настоящее среднее случайной величины\n",
      "1.5957691216057308\n"
     ]
    }
   ],
   "source": [
    "real_mean = rv.mean() # настоящее среднее случайной величины\n",
    "print ('Настоящее среднее случайной величины')\n",
    "print (real_mean)\n"
   ]
  },
  {
   "cell_type": "code",
   "execution_count": 3,
   "id": "886fff01",
   "metadata": {},
   "outputs": [
    {
     "name": "stdout",
     "output_type": "stream",
     "text": [
      "Настоящая дисперсия случайной величины\n",
      "0.45352091052967447\n"
     ]
    }
   ],
   "source": [
    "real_var = rv.var() \n",
    "print ('Настоящая дисперсия случайной величины')\n",
    "print (real_var)\n"
   ]
  },
  {
   "cell_type": "code",
   "execution_count": 8,
   "id": "bd7ca9a4",
   "metadata": {},
   "outputs": [
    {
     "name": "stdout",
     "output_type": "stream",
     "text": [
      "Выборочное среднее\n",
      "1.6420978044407095\n",
      "Выборочная дисперсия\n",
      "0.46577657527358746\n"
     ]
    },
    {
     "data": {
      "image/png": "[encoded data removed]",
      "text/plain": [
       "<Figure size 432x288 with 1 Axes>"
      ]
     },
     "metadata": {
      "needs_background": "light"
     },
     "output_type": "display_data"
    }
   ],
   "source": [
    "# Постройте гистограмму выборки и теоретическую плотность распределения\n",
    "\n",
    "plt.hist(sample, density=True)\n",
    "x = np.linspace(0,5,50)\n",
    "pdf = rv.pdf(x)\n",
    "plt.plot(x, pdf, label='теоретическая плотность', alpha=0.5, linewidth='3')\n",
    "plt.legend()\n",
    "\n",
    "sample_mean = sample.mean() # выборочное среднее\n",
    "print ('Выборочное среднее')\n",
    "print(sample_mean)\n",
    "sample_var = sample.var() # выборочная дисперсия\n",
    "print ('Выборочная дисперсия')\n",
    "print(sample_var)\n"
   ]
  },
  {
   "cell_type": "code",
   "execution_count": 15,
   "id": "01922280",
   "metadata": {
    "scrolled": true
   },
   "outputs": [
    {
     "data": {
      "image/png": "[encoded data removed]",
      "text/plain": [
       "<Figure size 432x288 with 1 Axes>"
      ]
     },
     "metadata": {
      "needs_background": "light"
     },
     "output_type": "display_data"
    }
   ],
   "source": [
    "\n",
    "Kol = [50, 500, 1500]\n",
    "for N in Kol:\n",
    "    samplen = rv.rvs(N)\n",
    "    plt.hist(samplen, density=True)\n",
    "    x = np.linspace(0,4,150)\n",
    "    pdf = rv.pdf(x)\n",
    "    plt.plot(x, pdf, label='теоретическая плотность', alpha=0.5, linewidth='1')\n",
    "    plt.legend()\n",
    "\n"
   ]
  },
  {
   "cell_type": "code",
   "execution_count": null,
   "id": "f71a2ee3",
   "metadata": {},
   "outputs": [],
   "source": [
    "# Для выбранного распределения апроксимация распределения выборочного среднего работает хорошо  "
   ]
  },
  {
   "cell_type": "code",
   "execution_count": 24,
   "id": "e6c651b2",
   "metadata": {},
   "outputs": [],
   "source": [
    "# Доверительный интервал на основе ЦПТ\n",
    "\n",
    "import pandas as pd \n",
    "import numpy as np\n",
    "import matplotlib.pyplot as plt\n",
    "import scipy.stats as sts \n",
    "import statsmodels.stats.weightstats as ssw\n",
    "data = pd.read_csv('telecom_churn.csv')\n",
    "df = pd.DataFrame(data) \n",
    "N = 30"
   ]
  },
  {
   "cell_type": "code",
   "execution_count": 25,
   "id": "a9c6acff",
   "metadata": {},
   "outputs": [],
   "source": [
    "# Данные по \"неушедшим абонентам:\"\n",
    "\n",
    "mask = df['churn'].values == False\n",
    "df_new = df[mask]"
   ]
  },
  {
   "cell_type": "code",
   "execution_count": 27,
   "id": "19f30089",
   "metadata": {},
   "outputs": [
    {
     "name": "stdout",
     "output_type": "stream",
     "text": [
      "Доверительный интервал для среднего по цпт, если нам известна дисперсия: [93.19740488096349, 107.3689109085102] \n"
     ]
    }
   ],
   "source": [
    "print(\"Доверительный интервал для среднего по цпт, если нам известна дисперсия: [{}, {}] \".format(\n",
    "    np.mean(df_new['total day calls']) - 1.96 * np.std(df_new['total day calls'], ddof=1)/ np.sqrt(N), np.mean(df_new['total day calls']) + 1.96 * np.std(df_new['total day calls'], ddof=1)/ np.sqrt(N))) "
   ]
  },
  {
   "cell_type": "code",
   "execution_count": 33,
   "id": "57bb96fa",
   "metadata": {},
   "outputs": [
    {
     "name": "stdout",
     "output_type": "stream",
     "text": [
      "Доверительный интервал для среднего по цпт интервальная оценка: (93.19753508333791, 107.36878070613578) \n"
     ]
    }
   ],
   "source": [
    "print(\"Доверительный интервал для среднего по цпт интервальная оценка: {} \".format(\n",
    "sts.norm.interval(alpha=0.95, loc=np.mean(df_new['total day calls']), \n",
    "                  scale= np.std(df_new['total day calls'],                                                        \n",
    "                  ddof=1)/ np.sqrt(N))))# alternative 'two-sided' only"
   ]
  },
  {
   "cell_type": "code",
   "execution_count": 29,
   "id": "4a5ec7dd-9bb5-461a-b140-8c3ad4ede65e",
   "metadata": {},
   "outputs": [
    {
     "name": "stdout",
     "output_type": "stream",
     "text": [
      "Доверительный интервал для среднего по цпт методом _zconfint_generic: (93.19753508333791, 107.36878070613578) \n"
     ]
    }
   ],
   "source": [
    "print(\"Доверительный интервал для среднего по цпт методом _zconfint_generic: {} \".format(\n",
    "    ssw._zconfint_generic(np.mean(df_new['total day calls']), std_mean=np.std(df_new['total day calls'], ddof=1)/np.sqrt(N), alpha=0.05, alternative='2s')\n",
    "))"
   ]
  },
  {
   "cell_type": "code",
   "execution_count": null,
   "id": "08d6b34d",
   "metadata": {},
   "outputs": [],
   "source": []
  }
 ],
 "metadata": {
  "kernelspec": {
   "display_name": "Python 3 (ipykernel)",
   "language": "python",
   "name": "python3"
  },
  "language_info": {
   "codemirror_mode": {
    "name": "ipython",
    "version": 3
   },
   "file_extension": ".py",
   "mimetype": "text/x-python",
   "name": "python",
   "nbconvert_exporter": "python",
   "pygments_lexer": "ipython3",
   "version": "3.9.7"
  }
 },
 "nbformat": 4,
 "nbformat_minor": 5
}
