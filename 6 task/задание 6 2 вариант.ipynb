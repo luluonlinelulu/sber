{
 "cells": [
  {
   "cell_type": "code",
   "execution_count": 5,
   "id": "01ec2490-a3f0-44fe-815f-e8edf474d5c6",
   "metadata": {},
   "outputs": [
    {
     "name": "stdout",
     "output_type": "stream",
     "text": [
      "Показатели в пределах нормы:\n",
      "                               Показатель Единица измерений Результат анализа  \\\n",
      "0                                      pH        единицы pH               8.4   \n",
      "1                                   Запах             баллы                 1   \n",
      "3                               Жёсткость       мг-эквл/дм3               9.2   \n",
      "4         Аммиак и аммоний-ион (по азоту)            мг/дм3              0.42   \n",
      "5                        Нитриты (по NO2)            мг/дм3             0.017   \n",
      "6                        Нитраты (по NO3)            мг/дм3                24   \n",
      "7                             Фосфаты (P)            мг/дм3              0.36   \n",
      "8                            Хлориды (Cl)            мг/дм3               200   \n",
      "9                          Сульфаты (SO4)            мг/дм3             189.5   \n",
      "10  Железо (включая хлорное железо) по Fe            мг/дм3             0.019   \n",
      "12    Общая минерализация (сухой остаток)            мг/дм3               590   \n",
      "\n",
      "           Норматив  \n",
      "0    в пределах 6-9  \n",
      "1        не более 3  \n",
      "3   в пределах 7-10  \n",
      "4      не более 1.5  \n",
      "5      не более 3.3  \n",
      "6       не более 45  \n",
      "7      не более 3.5  \n",
      "8      не более 350  \n",
      "9      не более 500  \n",
      "10     не более 0.3  \n",
      "12    не более 1000  \n",
      "Показатели не соответствуют норме:\n",
      "                     Показатель Единица измерений Результат анализа  \\\n",
      "11                        Нефть            мг/дм3              0.55   \n",
      "13  Окисляемость перманганатная            мг/дм3                 2   \n",
      "\n",
      "        Норматив  \n",
      "11  не более 0.3  \n",
      "13  не более 0.5  \n",
      "Проверьте показатель вручную:\n",
      "  Показатель Единица измерений Результат анализа     Норматив\n",
      "2  Цветность           градусы           б/цвета  не более 30\n"
     ]
    }
   ],
   "source": [
    "\n",
    "#Задача 1 Загрузка DataFrame\n",
    "\n",
    "\n",
    "import pandas as pd \n",
    "\n",
    "data  = pd.read_excel('C:\\\\Users\\\\Сергей\\\\Desktop\\\\Химический анализ родника в Нескучном саду.xlsx')\n",
    "df = pd.DataFrame(data) \n",
    "new_df = df['Норматив'].str.split(' ',expand=True)\n",
    "new_df2 = new_df[2].str.split('-',expand=True)\n",
    "df_new = df.join(new_df2)\n",
    "df_new['Результат анализа'] = pd.to_numeric(df_new['Результат анализа'], errors='coerce')\n",
    "df_new[0] = pd.to_numeric(df_new[0], errors='coerce')\n",
    "\n",
    "\n",
    "df_new[1] = pd.to_numeric(df_new[1], errors='coerce')\n",
    "\n",
    "df_new[1] = df_new[1].fillna(0)\n",
    "\n",
    "print(\"Показатели в пределах нормы:\") \n",
    "print (df[((df_new[1] > 0) & (df_new['Результат анализа'] > df_new[0]) & (df_new['Результат анализа'] < df_new[1])) | ((df_new[1] == 0) & (df_new['Результат анализа'] < df_new[0])) ])\n",
    "\n",
    "print(\"Показатели не соответствуют норме:\") \n",
    "print (df[((df_new[1] == 0) & (df_new['Результат анализа'] > df_new[0]) ) ])\n",
    "\n",
    "\n",
    "\n",
    "print(\"Проверьте показатель вручную:\") \n",
    "print (df[df_new['Результат анализа'].isna()])\n",
    "\n",
    "\n",
    "\n"
   ]
  },
  {
   "cell_type": "code",
   "execution_count": null,
   "id": "b3903ab6-0bf8-4455-97fe-57cea530e22d",
   "metadata": {},
   "outputs": [],
   "source": []
  },
  {
   "cell_type": "code",
   "execution_count": null,
   "id": "cb77a794-eb75-48bd-9581-8ba0e6cc1bcb",
   "metadata": {},
   "outputs": [],
   "source": []
  }
 ],
 "metadata": {
  "kernelspec": {
   "display_name": "Python 3 (ipykernel)",
   "language": "python",
   "name": "python3"
  },
  "language_info": {
   "codemirror_mode": {
    "name": "ipython",
    "version": 3
   },
   "file_extension": ".py",
   "mimetype": "text/x-python",
   "name": "python",
   "nbconvert_exporter": "python",
   "pygments_lexer": "ipython3",
   "version": "3.12.4"
  }
 },
 "nbformat": 4,
 "nbformat_minor": 5
}
